{
  "nbformat": 4,
  "nbformat_minor": 0,
  "metadata": {
    "colab": {
      "provenance": []
    },
    "kernelspec": {
      "name": "python3",
      "display_name": "Python 3"
    },
    "language_info": {
      "name": "python"
    }
  },
  "cells": [
    {
      "cell_type": "markdown",
      "source": [
        " ## GCN"
      ],
      "metadata": {
        "id": "7zLinMRNEKxO"
      }
    },
    {
      "cell_type": "code",
      "source": [
        "!pip install torch torchvision torchaudio\n",
        "!pip install geoopt\n",
        "!pip install networkx"
      ],
      "metadata": {
        "colab": {
          "base_uri": "https://localhost:8080/"
        },
        "id": "UXee37tPESvX",
        "outputId": "ba38164b-3e94-4a2d-b77e-87b5b5008eb7"
      },
      "execution_count": 1,
      "outputs": [
        {
          "output_type": "stream",
          "name": "stdout",
          "text": [
            "Requirement already satisfied: torch in /usr/local/lib/python3.10/dist-packages (2.5.1+cu121)\n",
            "Requirement already satisfied: torchvision in /usr/local/lib/python3.10/dist-packages (0.20.1+cu121)\n",
            "Requirement already satisfied: torchaudio in /usr/local/lib/python3.10/dist-packages (2.5.1+cu121)\n",
            "Requirement already satisfied: filelock in /usr/local/lib/python3.10/dist-packages (from torch) (3.16.1)\n",
            "Requirement already satisfied: typing-extensions>=4.8.0 in /usr/local/lib/python3.10/dist-packages (from torch) (4.12.2)\n",
            "Requirement already satisfied: networkx in /usr/local/lib/python3.10/dist-packages (from torch) (3.4.2)\n",
            "Requirement already satisfied: jinja2 in /usr/local/lib/python3.10/dist-packages (from torch) (3.1.4)\n",
            "Requirement already satisfied: fsspec in /usr/local/lib/python3.10/dist-packages (from torch) (2024.10.0)\n",
            "Requirement already satisfied: sympy==1.13.1 in /usr/local/lib/python3.10/dist-packages (from torch) (1.13.1)\n",
            "Requirement already satisfied: mpmath<1.4,>=1.1.0 in /usr/local/lib/python3.10/dist-packages (from sympy==1.13.1->torch) (1.3.0)\n",
            "Requirement already satisfied: numpy in /usr/local/lib/python3.10/dist-packages (from torchvision) (1.26.4)\n",
            "Requirement already satisfied: pillow!=8.3.*,>=5.3.0 in /usr/local/lib/python3.10/dist-packages (from torchvision) (11.0.0)\n",
            "Requirement already satisfied: MarkupSafe>=2.0 in /usr/local/lib/python3.10/dist-packages (from jinja2->torch) (3.0.2)\n",
            "Collecting geoopt\n",
            "  Downloading geoopt-0.5.0-py3-none-any.whl.metadata (6.7 kB)\n",
            "Requirement already satisfied: torch>=1.9.0 in /usr/local/lib/python3.10/dist-packages (from geoopt) (2.5.1+cu121)\n",
            "Requirement already satisfied: numpy in /usr/local/lib/python3.10/dist-packages (from geoopt) (1.26.4)\n",
            "Requirement already satisfied: scipy in /usr/local/lib/python3.10/dist-packages (from geoopt) (1.13.1)\n",
            "Requirement already satisfied: filelock in /usr/local/lib/python3.10/dist-packages (from torch>=1.9.0->geoopt) (3.16.1)\n",
            "Requirement already satisfied: typing-extensions>=4.8.0 in /usr/local/lib/python3.10/dist-packages (from torch>=1.9.0->geoopt) (4.12.2)\n",
            "Requirement already satisfied: networkx in /usr/local/lib/python3.10/dist-packages (from torch>=1.9.0->geoopt) (3.4.2)\n",
            "Requirement already satisfied: jinja2 in /usr/local/lib/python3.10/dist-packages (from torch>=1.9.0->geoopt) (3.1.4)\n",
            "Requirement already satisfied: fsspec in /usr/local/lib/python3.10/dist-packages (from torch>=1.9.0->geoopt) (2024.10.0)\n",
            "Requirement already satisfied: sympy==1.13.1 in /usr/local/lib/python3.10/dist-packages (from torch>=1.9.0->geoopt) (1.13.1)\n",
            "Requirement already satisfied: mpmath<1.4,>=1.1.0 in /usr/local/lib/python3.10/dist-packages (from sympy==1.13.1->torch>=1.9.0->geoopt) (1.3.0)\n",
            "Requirement already satisfied: MarkupSafe>=2.0 in /usr/local/lib/python3.10/dist-packages (from jinja2->torch>=1.9.0->geoopt) (3.0.2)\n",
            "Downloading geoopt-0.5.0-py3-none-any.whl (90 kB)\n",
            "\u001b[2K   \u001b[90m━━━━━━━━━━━━━━━━━━━━━━━━━━━━━━━━━━━━━━━━\u001b[0m \u001b[32m90.1/90.1 kB\u001b[0m \u001b[31m4.6 MB/s\u001b[0m eta \u001b[36m0:00:00\u001b[0m\n",
            "\u001b[?25hInstalling collected packages: geoopt\n",
            "Successfully installed geoopt-0.5.0\n",
            "Requirement already satisfied: networkx in /usr/local/lib/python3.10/dist-packages (3.4.2)\n"
          ]
        }
      ]
    },
    {
      "cell_type": "code",
      "execution_count": 14,
      "metadata": {
        "colab": {
          "base_uri": "https://localhost:8080/"
        },
        "id": "rlWkw1vXEFOJ",
        "outputId": "7083184f-31c9-4bd2-d0a5-5f4c20a1ca99"
      },
      "outputs": [
        {
          "output_type": "stream",
          "name": "stdout",
          "text": [
            "Number of Nodes: 2665\n",
            "Number of Features: 11\n",
            "Number of Classes: 2\n",
            "Using device: cpu\n",
            "\n",
            "Starting Training...\n",
            "\n"
          ]
        },
        {
          "output_type": "stream",
          "name": "stderr",
          "text": [
            "  0%|          | 2/1000 [00:00<02:29,  6.65it/s]"
          ]
        },
        {
          "output_type": "stream",
          "name": "stdout",
          "text": [
            "Epoch 001: Train Loss=3.3203, Val Loss=3.2491, Val Acc=0.4556, Best Test Acc=0.4637\n"
          ]
        },
        {
          "output_type": "stream",
          "name": "stderr",
          "text": [
            "  1%|          | 11/1000 [00:01<02:25,  6.78it/s]"
          ]
        },
        {
          "output_type": "stream",
          "name": "stdout",
          "text": [
            "Epoch 010: Train Loss=0.9399, Val Loss=0.8925, Val Acc=0.4168, Best Test Acc=0.4637\n"
          ]
        },
        {
          "output_type": "stream",
          "name": "stderr",
          "text": [
            "  2%|▏         | 22/1000 [00:03<01:56,  8.40it/s]"
          ]
        },
        {
          "output_type": "stream",
          "name": "stdout",
          "text": [
            "Epoch 020: Train Loss=1.0696, Val Loss=1.0550, Val Acc=0.5006, Best Test Acc=0.5012\n"
          ]
        },
        {
          "output_type": "stream",
          "name": "stderr",
          "text": [
            "  3%|▎         | 32/1000 [00:04<01:29, 10.81it/s]"
          ]
        },
        {
          "output_type": "stream",
          "name": "stdout",
          "text": [
            "Epoch 030: Train Loss=0.7979, Val Loss=0.7665, Val Acc=0.5319, Best Test Acc=0.5400\n"
          ]
        },
        {
          "output_type": "stream",
          "name": "stderr",
          "text": [
            "  4%|▍         | 42/1000 [00:04<01:25, 11.17it/s]"
          ]
        },
        {
          "output_type": "stream",
          "name": "stdout",
          "text": [
            "Epoch 040: Train Loss=0.7664, Val Loss=0.7270, Val Acc=0.5632, Best Test Acc=0.5387\n"
          ]
        },
        {
          "output_type": "stream",
          "name": "stderr",
          "text": [
            "  5%|▌         | 52/1000 [00:05<01:24, 11.15it/s]"
          ]
        },
        {
          "output_type": "stream",
          "name": "stdout",
          "text": [
            "Epoch 050: Train Loss=0.6921, Val Loss=0.6677, Val Acc=0.6270, Best Test Acc=0.6188\n"
          ]
        },
        {
          "output_type": "stream",
          "name": "stderr",
          "text": [
            "  6%|▌         | 60/1000 [00:06<01:22, 11.37it/s]"
          ]
        },
        {
          "output_type": "stream",
          "name": "stdout",
          "text": [
            "Epoch 060: Train Loss=0.6457, Val Loss=0.6236, Val Acc=0.6871, Best Test Acc=0.6825\n"
          ]
        },
        {
          "output_type": "stream",
          "name": "stderr",
          "text": [
            "  7%|▋         | 72/1000 [00:07<01:23, 11.13it/s]"
          ]
        },
        {
          "output_type": "stream",
          "name": "stdout",
          "text": [
            "Epoch 070: Train Loss=0.6091, Val Loss=0.5886, Val Acc=0.7297, Best Test Acc=0.7262\n"
          ]
        },
        {
          "output_type": "stream",
          "name": "stderr",
          "text": [
            "  8%|▊         | 81/1000 [00:08<02:00,  7.65it/s]"
          ]
        },
        {
          "output_type": "stream",
          "name": "stdout",
          "text": [
            "Epoch 080: Train Loss=0.5766, Val Loss=0.5652, Val Acc=0.7735, Best Test Acc=0.7738\n"
          ]
        },
        {
          "output_type": "stream",
          "name": "stderr",
          "text": [
            "  9%|▉         | 91/1000 [00:10<02:08,  7.08it/s]"
          ]
        },
        {
          "output_type": "stream",
          "name": "stdout",
          "text": [
            "Epoch 090: Train Loss=0.5498, Val Loss=0.5406, Val Acc=0.7847, Best Test Acc=0.7925\n"
          ]
        },
        {
          "output_type": "stream",
          "name": "stderr",
          "text": [
            " 10%|█         | 101/1000 [00:11<02:01,  7.43it/s]"
          ]
        },
        {
          "output_type": "stream",
          "name": "stdout",
          "text": [
            "Epoch 100: Train Loss=0.5276, Val Loss=0.5223, Val Acc=0.8048, Best Test Acc=0.8087\n"
          ]
        },
        {
          "output_type": "stream",
          "name": "stderr",
          "text": [
            " 11%|█         | 111/1000 [00:12<01:22, 10.83it/s]"
          ]
        },
        {
          "output_type": "stream",
          "name": "stdout",
          "text": [
            "Epoch 110: Train Loss=0.5097, Val Loss=0.5074, Val Acc=0.8123, Best Test Acc=0.8163\n"
          ]
        },
        {
          "output_type": "stream",
          "name": "stderr",
          "text": [
            " 12%|█▏        | 121/1000 [00:13<01:18, 11.18it/s]"
          ]
        },
        {
          "output_type": "stream",
          "name": "stdout",
          "text": [
            "Epoch 120: Train Loss=0.4949, Val Loss=0.4962, Val Acc=0.8248, Best Test Acc=0.8337\n"
          ]
        },
        {
          "output_type": "stream",
          "name": "stderr",
          "text": [
            " 13%|█▎        | 131/1000 [00:14<01:17, 11.22it/s]"
          ]
        },
        {
          "output_type": "stream",
          "name": "stdout",
          "text": [
            "Epoch 130: Train Loss=0.4826, Val Loss=0.4869, Val Acc=0.8260, Best Test Acc=0.8350\n"
          ]
        },
        {
          "output_type": "stream",
          "name": "stderr",
          "text": [
            " 14%|█▍        | 141/1000 [00:15<01:16, 11.18it/s]"
          ]
        },
        {
          "output_type": "stream",
          "name": "stdout",
          "text": [
            "Epoch 140: Train Loss=0.4719, Val Loss=0.4793, Val Acc=0.8335, Best Test Acc=0.8450\n"
          ]
        },
        {
          "output_type": "stream",
          "name": "stderr",
          "text": [
            " 15%|█▌        | 151/1000 [00:16<01:16, 11.03it/s]"
          ]
        },
        {
          "output_type": "stream",
          "name": "stdout",
          "text": [
            "Epoch 150: Train Loss=0.4620, Val Loss=0.4726, Val Acc=0.8385, Best Test Acc=0.8500\n"
          ]
        },
        {
          "output_type": "stream",
          "name": "stderr",
          "text": [
            " 16%|█▌        | 161/1000 [00:16<01:15, 11.11it/s]"
          ]
        },
        {
          "output_type": "stream",
          "name": "stdout",
          "text": [
            "Epoch 160: Train Loss=0.4534, Val Loss=0.4665, Val Acc=0.8398, Best Test Acc=0.8500\n"
          ]
        },
        {
          "output_type": "stream",
          "name": "stderr",
          "text": [
            " 17%|█▋        | 171/1000 [00:17<01:13, 11.26it/s]"
          ]
        },
        {
          "output_type": "stream",
          "name": "stdout",
          "text": [
            "Epoch 170: Train Loss=0.4457, Val Loss=0.4614, Val Acc=0.8398, Best Test Acc=0.8500\n"
          ]
        },
        {
          "output_type": "stream",
          "name": "stderr",
          "text": [
            " 18%|█▊        | 181/1000 [00:18<01:13, 11.16it/s]"
          ]
        },
        {
          "output_type": "stream",
          "name": "stdout",
          "text": [
            "Epoch 180: Train Loss=0.4389, Val Loss=0.4571, Val Acc=0.8411, Best Test Acc=0.8562\n"
          ]
        },
        {
          "output_type": "stream",
          "name": "stderr",
          "text": [
            " 19%|█▉        | 191/1000 [00:19<01:12, 11.13it/s]"
          ]
        },
        {
          "output_type": "stream",
          "name": "stdout",
          "text": [
            "Epoch 190: Train Loss=0.4330, Val Loss=0.4534, Val Acc=0.8360, Best Test Acc=0.8562\n"
          ]
        },
        {
          "output_type": "stream",
          "name": "stderr",
          "text": [
            " 20%|██        | 201/1000 [00:20<01:10, 11.33it/s]"
          ]
        },
        {
          "output_type": "stream",
          "name": "stdout",
          "text": [
            "Epoch 200: Train Loss=0.4277, Val Loss=0.4502, Val Acc=0.8373, Best Test Acc=0.8562\n"
          ]
        },
        {
          "output_type": "stream",
          "name": "stderr",
          "text": [
            " 21%|██        | 211/1000 [00:21<01:10, 11.18it/s]"
          ]
        },
        {
          "output_type": "stream",
          "name": "stdout",
          "text": [
            "Epoch 210: Train Loss=0.4229, Val Loss=0.4475, Val Acc=0.8360, Best Test Acc=0.8562\n"
          ]
        },
        {
          "output_type": "stream",
          "name": "stderr",
          "text": [
            " 22%|██▏       | 221/1000 [00:22<01:47,  7.25it/s]"
          ]
        },
        {
          "output_type": "stream",
          "name": "stdout",
          "text": [
            "Epoch 220: Train Loss=0.4187, Val Loss=0.4453, Val Acc=0.8373, Best Test Acc=0.8562\n"
          ]
        },
        {
          "output_type": "stream",
          "name": "stderr",
          "text": [
            " 23%|██▎       | 231/1000 [00:24<01:50,  6.97it/s]"
          ]
        },
        {
          "output_type": "stream",
          "name": "stdout",
          "text": [
            "Epoch 230: Train Loss=0.4149, Val Loss=0.4434, Val Acc=0.8411, Best Test Acc=0.8562\n"
          ]
        },
        {
          "output_type": "stream",
          "name": "stderr",
          "text": [
            " 24%|██▍       | 241/1000 [00:25<01:38,  7.70it/s]"
          ]
        },
        {
          "output_type": "stream",
          "name": "stdout",
          "text": [
            "Epoch 240: Train Loss=0.4113, Val Loss=0.4416, Val Acc=0.8385, Best Test Acc=0.8562\n"
          ]
        },
        {
          "output_type": "stream",
          "name": "stderr",
          "text": [
            " 25%|██▌       | 251/1000 [00:26<01:09, 10.76it/s]"
          ]
        },
        {
          "output_type": "stream",
          "name": "stdout",
          "text": [
            "Epoch 250: Train Loss=0.4081, Val Loss=0.4400, Val Acc=0.8411, Best Test Acc=0.8562\n"
          ]
        },
        {
          "output_type": "stream",
          "name": "stderr",
          "text": [
            " 26%|██▌       | 261/1000 [00:27<01:07, 10.96it/s]"
          ]
        },
        {
          "output_type": "stream",
          "name": "stdout",
          "text": [
            "Epoch 260: Train Loss=0.4052, Val Loss=0.4384, Val Acc=0.8411, Best Test Acc=0.8562\n"
          ]
        },
        {
          "output_type": "stream",
          "name": "stderr",
          "text": [
            " 27%|██▋       | 271/1000 [00:28<01:05, 11.20it/s]"
          ]
        },
        {
          "output_type": "stream",
          "name": "stdout",
          "text": [
            "Epoch 270: Train Loss=0.4024, Val Loss=0.4370, Val Acc=0.8436, Best Test Acc=0.8538\n"
          ]
        },
        {
          "output_type": "stream",
          "name": "stderr",
          "text": [
            " 28%|██▊       | 281/1000 [00:29<01:03, 11.29it/s]"
          ]
        },
        {
          "output_type": "stream",
          "name": "stdout",
          "text": [
            "Epoch 280: Train Loss=0.3998, Val Loss=0.4359, Val Acc=0.8436, Best Test Acc=0.8538\n"
          ]
        },
        {
          "output_type": "stream",
          "name": "stderr",
          "text": [
            " 29%|██▉       | 291/1000 [00:30<01:04, 11.04it/s]"
          ]
        },
        {
          "output_type": "stream",
          "name": "stdout",
          "text": [
            "Epoch 290: Train Loss=0.3974, Val Loss=0.4349, Val Acc=0.8411, Best Test Acc=0.8538\n"
          ]
        },
        {
          "output_type": "stream",
          "name": "stderr",
          "text": [
            " 30%|███       | 301/1000 [00:31<01:02, 11.25it/s]"
          ]
        },
        {
          "output_type": "stream",
          "name": "stdout",
          "text": [
            "Epoch 300: Train Loss=0.3950, Val Loss=0.4340, Val Acc=0.8423, Best Test Acc=0.8538\n"
          ]
        },
        {
          "output_type": "stream",
          "name": "stderr",
          "text": [
            " 31%|███       | 311/1000 [00:31<01:03, 10.92it/s]"
          ]
        },
        {
          "output_type": "stream",
          "name": "stdout",
          "text": [
            "Epoch 310: Train Loss=0.3927, Val Loss=0.4330, Val Acc=0.8411, Best Test Acc=0.8538\n"
          ]
        },
        {
          "output_type": "stream",
          "name": "stderr",
          "text": [
            " 32%|███▏      | 321/1000 [00:32<01:01, 11.08it/s]"
          ]
        },
        {
          "output_type": "stream",
          "name": "stdout",
          "text": [
            "Epoch 320: Train Loss=0.3906, Val Loss=0.4321, Val Acc=0.8411, Best Test Acc=0.8538\n"
          ]
        },
        {
          "output_type": "stream",
          "name": "stderr",
          "text": [
            " 33%|███▎      | 331/1000 [00:33<01:00, 11.01it/s]"
          ]
        },
        {
          "output_type": "stream",
          "name": "stdout",
          "text": [
            "Epoch 330: Train Loss=0.3886, Val Loss=0.4314, Val Acc=0.8423, Best Test Acc=0.8538\n"
          ]
        },
        {
          "output_type": "stream",
          "name": "stderr",
          "text": [
            " 34%|███▍      | 341/1000 [00:34<00:59, 11.08it/s]"
          ]
        },
        {
          "output_type": "stream",
          "name": "stdout",
          "text": [
            "Epoch 340: Train Loss=0.3866, Val Loss=0.4307, Val Acc=0.8423, Best Test Acc=0.8538\n"
          ]
        },
        {
          "output_type": "stream",
          "name": "stderr",
          "text": [
            " 35%|███▌      | 351/1000 [00:35<00:56, 11.41it/s]"
          ]
        },
        {
          "output_type": "stream",
          "name": "stdout",
          "text": [
            "Epoch 350: Train Loss=0.3847, Val Loss=0.4301, Val Acc=0.8411, Best Test Acc=0.8538\n"
          ]
        },
        {
          "output_type": "stream",
          "name": "stderr",
          "text": [
            " 36%|███▌      | 361/1000 [00:36<01:27,  7.33it/s]"
          ]
        },
        {
          "output_type": "stream",
          "name": "stdout",
          "text": [
            "Epoch 360: Train Loss=0.3828, Val Loss=0.4295, Val Acc=0.8411, Best Test Acc=0.8538\n"
          ]
        },
        {
          "output_type": "stream",
          "name": "stderr",
          "text": [
            " 37%|███▋      | 371/1000 [00:38<01:28,  7.15it/s]"
          ]
        },
        {
          "output_type": "stream",
          "name": "stdout",
          "text": [
            "Epoch 370: Train Loss=0.3810, Val Loss=0.4290, Val Acc=0.8398, Best Test Acc=0.8538\n"
          ]
        },
        {
          "output_type": "stream",
          "name": "stderr",
          "text": [
            " 38%|███▊      | 381/1000 [00:39<01:06,  9.36it/s]"
          ]
        },
        {
          "output_type": "stream",
          "name": "stdout",
          "text": [
            "Epoch 380: Train Loss=0.3793, Val Loss=0.4285, Val Acc=0.8398, Best Test Acc=0.8538\n"
          ]
        },
        {
          "output_type": "stream",
          "name": "stderr",
          "text": [
            " 39%|███▉      | 391/1000 [00:40<00:55, 11.04it/s]"
          ]
        },
        {
          "output_type": "stream",
          "name": "stdout",
          "text": [
            "Epoch 390: Train Loss=0.3776, Val Loss=0.4282, Val Acc=0.8411, Best Test Acc=0.8538\n"
          ]
        },
        {
          "output_type": "stream",
          "name": "stderr",
          "text": [
            " 40%|████      | 401/1000 [00:41<00:52, 11.37it/s]"
          ]
        },
        {
          "output_type": "stream",
          "name": "stdout",
          "text": [
            "Epoch 400: Train Loss=0.3760, Val Loss=0.4277, Val Acc=0.8411, Best Test Acc=0.8538\n"
          ]
        },
        {
          "output_type": "stream",
          "name": "stderr",
          "text": [
            " 41%|████      | 411/1000 [00:42<00:52, 11.31it/s]"
          ]
        },
        {
          "output_type": "stream",
          "name": "stdout",
          "text": [
            "Epoch 410: Train Loss=0.3745, Val Loss=0.4273, Val Acc=0.8411, Best Test Acc=0.8538\n"
          ]
        },
        {
          "output_type": "stream",
          "name": "stderr",
          "text": [
            " 42%|████▏     | 421/1000 [00:43<00:51, 11.19it/s]"
          ]
        },
        {
          "output_type": "stream",
          "name": "stdout",
          "text": [
            "Epoch 420: Train Loss=0.3730, Val Loss=0.4269, Val Acc=0.8411, Best Test Acc=0.8538\n"
          ]
        },
        {
          "output_type": "stream",
          "name": "stderr",
          "text": [
            " 43%|████▎     | 431/1000 [00:43<00:49, 11.42it/s]"
          ]
        },
        {
          "output_type": "stream",
          "name": "stdout",
          "text": [
            "Epoch 430: Train Loss=0.3716, Val Loss=0.4267, Val Acc=0.8423, Best Test Acc=0.8538\n"
          ]
        },
        {
          "output_type": "stream",
          "name": "stderr",
          "text": [
            " 44%|████▍     | 441/1000 [00:44<00:49, 11.27it/s]"
          ]
        },
        {
          "output_type": "stream",
          "name": "stdout",
          "text": [
            "Epoch 440: Train Loss=0.3702, Val Loss=0.4264, Val Acc=0.8423, Best Test Acc=0.8538\n"
          ]
        },
        {
          "output_type": "stream",
          "name": "stderr",
          "text": [
            " 45%|████▌     | 451/1000 [00:45<00:48, 11.29it/s]"
          ]
        },
        {
          "output_type": "stream",
          "name": "stdout",
          "text": [
            "Epoch 450: Train Loss=0.3689, Val Loss=0.4262, Val Acc=0.8423, Best Test Acc=0.8538\n"
          ]
        },
        {
          "output_type": "stream",
          "name": "stderr",
          "text": [
            " 46%|████▌     | 461/1000 [00:46<00:48, 11.08it/s]"
          ]
        },
        {
          "output_type": "stream",
          "name": "stdout",
          "text": [
            "Epoch 460: Train Loss=0.3675, Val Loss=0.4260, Val Acc=0.8423, Best Test Acc=0.8538\n"
          ]
        },
        {
          "output_type": "stream",
          "name": "stderr",
          "text": [
            " 47%|████▋     | 471/1000 [00:47<00:46, 11.43it/s]"
          ]
        },
        {
          "output_type": "stream",
          "name": "stdout",
          "text": [
            "Epoch 470: Train Loss=0.3663, Val Loss=0.4258, Val Acc=0.8423, Best Test Acc=0.8538\n"
          ]
        },
        {
          "output_type": "stream",
          "name": "stderr",
          "text": [
            " 48%|████▊     | 481/1000 [00:48<00:45, 11.40it/s]"
          ]
        },
        {
          "output_type": "stream",
          "name": "stdout",
          "text": [
            "Epoch 480: Train Loss=0.3651, Val Loss=0.4256, Val Acc=0.8423, Best Test Acc=0.8538\n"
          ]
        },
        {
          "output_type": "stream",
          "name": "stderr",
          "text": [
            " 49%|████▉     | 491/1000 [00:49<00:49, 10.39it/s]"
          ]
        },
        {
          "output_type": "stream",
          "name": "stdout",
          "text": [
            "Epoch 490: Train Loss=0.3639, Val Loss=0.4255, Val Acc=0.8423, Best Test Acc=0.8538\n"
          ]
        },
        {
          "output_type": "stream",
          "name": "stderr",
          "text": [
            " 50%|█████     | 501/1000 [00:50<01:10,  7.09it/s]"
          ]
        },
        {
          "output_type": "stream",
          "name": "stdout",
          "text": [
            "Epoch 500: Train Loss=0.3627, Val Loss=0.4254, Val Acc=0.8423, Best Test Acc=0.8538\n"
          ]
        },
        {
          "output_type": "stream",
          "name": "stderr",
          "text": [
            " 51%|█████     | 511/1000 [00:52<01:08,  7.13it/s]"
          ]
        },
        {
          "output_type": "stream",
          "name": "stdout",
          "text": [
            "Epoch 510: Train Loss=0.3616, Val Loss=0.4253, Val Acc=0.8423, Best Test Acc=0.8538\n"
          ]
        },
        {
          "output_type": "stream",
          "name": "stderr",
          "text": [
            " 52%|█████▏    | 522/1000 [00:53<00:50,  9.48it/s]"
          ]
        },
        {
          "output_type": "stream",
          "name": "stdout",
          "text": [
            "Epoch 520: Train Loss=0.3606, Val Loss=0.4253, Val Acc=0.8423, Best Test Acc=0.8538\n"
          ]
        },
        {
          "output_type": "stream",
          "name": "stderr",
          "text": [
            " 53%|█████▎    | 532/1000 [00:54<00:42, 10.95it/s]"
          ]
        },
        {
          "output_type": "stream",
          "name": "stdout",
          "text": [
            "Epoch 530: Train Loss=0.3595, Val Loss=0.4253, Val Acc=0.8423, Best Test Acc=0.8538\n"
          ]
        },
        {
          "output_type": "stream",
          "name": "stderr",
          "text": [
            " 54%|█████▍    | 542/1000 [00:55<00:40, 11.32it/s]"
          ]
        },
        {
          "output_type": "stream",
          "name": "stdout",
          "text": [
            "Epoch 540: Train Loss=0.3585, Val Loss=0.4251, Val Acc=0.8436, Best Test Acc=0.8538\n"
          ]
        },
        {
          "output_type": "stream",
          "name": "stderr",
          "text": [
            " 55%|█████▌    | 552/1000 [00:56<00:38, 11.59it/s]"
          ]
        },
        {
          "output_type": "stream",
          "name": "stdout",
          "text": [
            "Epoch 550: Train Loss=0.3575, Val Loss=0.4250, Val Acc=0.8448, Best Test Acc=0.8575\n"
          ]
        },
        {
          "output_type": "stream",
          "name": "stderr",
          "text": [
            " 56%|█████▌    | 562/1000 [00:57<00:38, 11.42it/s]"
          ]
        },
        {
          "output_type": "stream",
          "name": "stdout",
          "text": [
            "Epoch 560: Train Loss=0.3565, Val Loss=0.4250, Val Acc=0.8436, Best Test Acc=0.8575\n"
          ]
        },
        {
          "output_type": "stream",
          "name": "stderr",
          "text": [
            " 57%|█████▋    | 572/1000 [00:58<00:38, 11.11it/s]"
          ]
        },
        {
          "output_type": "stream",
          "name": "stdout",
          "text": [
            "Epoch 570: Train Loss=0.3556, Val Loss=0.4249, Val Acc=0.8436, Best Test Acc=0.8575\n"
          ]
        },
        {
          "output_type": "stream",
          "name": "stderr",
          "text": [
            " 58%|█████▊    | 582/1000 [00:58<00:37, 11.14it/s]"
          ]
        },
        {
          "output_type": "stream",
          "name": "stdout",
          "text": [
            "Epoch 580: Train Loss=0.3546, Val Loss=0.4249, Val Acc=0.8436, Best Test Acc=0.8575\n"
          ]
        },
        {
          "output_type": "stream",
          "name": "stderr",
          "text": [
            " 59%|█████▉    | 592/1000 [00:59<00:36, 11.09it/s]"
          ]
        },
        {
          "output_type": "stream",
          "name": "stdout",
          "text": [
            "Epoch 590: Train Loss=0.3537, Val Loss=0.4249, Val Acc=0.8448, Best Test Acc=0.8575\n"
          ]
        },
        {
          "output_type": "stream",
          "name": "stderr",
          "text": [
            " 60%|██████    | 602/1000 [01:00<00:36, 10.87it/s]"
          ]
        },
        {
          "output_type": "stream",
          "name": "stdout",
          "text": [
            "Epoch 600: Train Loss=0.3528, Val Loss=0.4249, Val Acc=0.8448, Best Test Acc=0.8575\n"
          ]
        },
        {
          "output_type": "stream",
          "name": "stderr",
          "text": [
            " 61%|██████    | 612/1000 [01:01<00:34, 11.31it/s]"
          ]
        },
        {
          "output_type": "stream",
          "name": "stdout",
          "text": [
            "Epoch 610: Train Loss=0.3520, Val Loss=0.4248, Val Acc=0.8461, Best Test Acc=0.8575\n"
          ]
        },
        {
          "output_type": "stream",
          "name": "stderr",
          "text": [
            " 62%|██████▏   | 622/1000 [01:02<00:33, 11.41it/s]"
          ]
        },
        {
          "output_type": "stream",
          "name": "stdout",
          "text": [
            "Epoch 620: Train Loss=0.3511, Val Loss=0.4247, Val Acc=0.8461, Best Test Acc=0.8575\n"
          ]
        },
        {
          "output_type": "stream",
          "name": "stderr",
          "text": [
            " 63%|██████▎   | 630/1000 [01:03<00:32, 11.22it/s]"
          ]
        },
        {
          "output_type": "stream",
          "name": "stdout",
          "text": [
            "Epoch 630: Train Loss=0.3503, Val Loss=0.4247, Val Acc=0.8461, Best Test Acc=0.8575\n"
          ]
        },
        {
          "output_type": "stream",
          "name": "stderr",
          "text": [
            " 64%|██████▍   | 641/1000 [01:04<00:51,  7.03it/s]"
          ]
        },
        {
          "output_type": "stream",
          "name": "stdout",
          "text": [
            "Epoch 640: Train Loss=0.3495, Val Loss=0.4249, Val Acc=0.8461, Best Test Acc=0.8575\n"
          ]
        },
        {
          "output_type": "stream",
          "name": "stderr",
          "text": [
            " 65%|██████▌   | 651/1000 [01:06<00:49,  7.07it/s]"
          ]
        },
        {
          "output_type": "stream",
          "name": "stdout",
          "text": [
            "Epoch 650: Train Loss=0.3487, Val Loss=0.4249, Val Acc=0.8461, Best Test Acc=0.8575\n"
          ]
        },
        {
          "output_type": "stream",
          "name": "stderr",
          "text": [
            " 66%|██████▌   | 661/1000 [01:07<00:35,  9.52it/s]"
          ]
        },
        {
          "output_type": "stream",
          "name": "stdout",
          "text": [
            "Epoch 660: Train Loss=0.3479, Val Loss=0.4249, Val Acc=0.8461, Best Test Acc=0.8575\n"
          ]
        },
        {
          "output_type": "stream",
          "name": "stderr",
          "text": [
            " 67%|██████▋   | 671/1000 [01:08<00:30, 10.94it/s]"
          ]
        },
        {
          "output_type": "stream",
          "name": "stdout",
          "text": [
            "Epoch 670: Train Loss=0.3471, Val Loss=0.4249, Val Acc=0.8461, Best Test Acc=0.8575\n"
          ]
        },
        {
          "output_type": "stream",
          "name": "stderr",
          "text": [
            " 68%|██████▊   | 681/1000 [01:09<00:28, 11.07it/s]"
          ]
        },
        {
          "output_type": "stream",
          "name": "stdout",
          "text": [
            "Epoch 680: Train Loss=0.3464, Val Loss=0.4249, Val Acc=0.8461, Best Test Acc=0.8575\n"
          ]
        },
        {
          "output_type": "stream",
          "name": "stderr",
          "text": [
            " 69%|██████▉   | 691/1000 [01:10<00:28, 10.92it/s]"
          ]
        },
        {
          "output_type": "stream",
          "name": "stdout",
          "text": [
            "Epoch 690: Train Loss=0.3456, Val Loss=0.4250, Val Acc=0.8461, Best Test Acc=0.8575\n"
          ]
        },
        {
          "output_type": "stream",
          "name": "stderr",
          "text": [
            " 70%|███████   | 701/1000 [01:11<00:26, 11.21it/s]"
          ]
        },
        {
          "output_type": "stream",
          "name": "stdout",
          "text": [
            "Epoch 700: Train Loss=0.3449, Val Loss=0.4250, Val Acc=0.8461, Best Test Acc=0.8575\n"
          ]
        },
        {
          "output_type": "stream",
          "name": "stderr",
          "text": [
            " 71%|███████   | 711/1000 [01:11<00:25, 11.20it/s]"
          ]
        },
        {
          "output_type": "stream",
          "name": "stdout",
          "text": [
            "Epoch 710: Train Loss=0.3442, Val Loss=0.4251, Val Acc=0.8461, Best Test Acc=0.8575\n"
          ]
        },
        {
          "output_type": "stream",
          "name": "stderr",
          "text": [
            " 72%|███████▏  | 721/1000 [01:12<00:24, 11.24it/s]"
          ]
        },
        {
          "output_type": "stream",
          "name": "stdout",
          "text": [
            "Epoch 720: Train Loss=0.3435, Val Loss=0.4252, Val Acc=0.8461, Best Test Acc=0.8575\n"
          ]
        },
        {
          "output_type": "stream",
          "name": "stderr",
          "text": [
            " 73%|███████▎  | 731/1000 [01:13<00:24, 11.08it/s]"
          ]
        },
        {
          "output_type": "stream",
          "name": "stdout",
          "text": [
            "Epoch 730: Train Loss=0.3428, Val Loss=0.4253, Val Acc=0.8461, Best Test Acc=0.8575\n"
          ]
        },
        {
          "output_type": "stream",
          "name": "stderr",
          "text": [
            " 74%|███████▍  | 741/1000 [01:14<00:22, 11.34it/s]"
          ]
        },
        {
          "output_type": "stream",
          "name": "stdout",
          "text": [
            "Epoch 740: Train Loss=0.3421, Val Loss=0.4254, Val Acc=0.8461, Best Test Acc=0.8575\n"
          ]
        },
        {
          "output_type": "stream",
          "name": "stderr",
          "text": [
            " 75%|███████▌  | 751/1000 [01:15<00:22, 11.19it/s]"
          ]
        },
        {
          "output_type": "stream",
          "name": "stdout",
          "text": [
            "Epoch 750: Train Loss=0.3414, Val Loss=0.4254, Val Acc=0.8473, Best Test Acc=0.8575\n"
          ]
        },
        {
          "output_type": "stream",
          "name": "stderr",
          "text": [
            " 76%|███████▌  | 761/1000 [01:16<00:21, 11.08it/s]"
          ]
        },
        {
          "output_type": "stream",
          "name": "stdout",
          "text": [
            "Epoch 760: Train Loss=0.3408, Val Loss=0.4255, Val Acc=0.8486, Best Test Acc=0.8588\n"
          ]
        },
        {
          "output_type": "stream",
          "name": "stderr",
          "text": [
            " 77%|███████▋  | 771/1000 [01:17<00:25,  9.03it/s]"
          ]
        },
        {
          "output_type": "stream",
          "name": "stdout",
          "text": [
            "Epoch 770: Train Loss=0.3401, Val Loss=0.4256, Val Acc=0.8498, Best Test Acc=0.8625\n"
          ]
        },
        {
          "output_type": "stream",
          "name": "stderr",
          "text": [
            " 78%|███████▊  | 781/1000 [01:18<00:31,  6.95it/s]"
          ]
        },
        {
          "output_type": "stream",
          "name": "stdout",
          "text": [
            "Epoch 780: Train Loss=0.3395, Val Loss=0.4257, Val Acc=0.8498, Best Test Acc=0.8625\n"
          ]
        },
        {
          "output_type": "stream",
          "name": "stderr",
          "text": [
            " 79%|███████▉  | 791/1000 [01:20<00:28,  7.38it/s]"
          ]
        },
        {
          "output_type": "stream",
          "name": "stdout",
          "text": [
            "Epoch 790: Train Loss=0.3389, Val Loss=0.4258, Val Acc=0.8498, Best Test Acc=0.8625\n"
          ]
        },
        {
          "output_type": "stream",
          "name": "stderr",
          "text": [
            " 80%|████████  | 802/1000 [01:21<00:21,  9.36it/s]"
          ]
        },
        {
          "output_type": "stream",
          "name": "stdout",
          "text": [
            "Epoch 800: Train Loss=0.3382, Val Loss=0.4259, Val Acc=0.8498, Best Test Acc=0.8625\n"
          ]
        },
        {
          "output_type": "stream",
          "name": "stderr",
          "text": [
            " 81%|████████  | 812/1000 [01:22<00:17, 11.05it/s]"
          ]
        },
        {
          "output_type": "stream",
          "name": "stdout",
          "text": [
            "Epoch 810: Train Loss=0.3376, Val Loss=0.4259, Val Acc=0.8498, Best Test Acc=0.8625\n"
          ]
        },
        {
          "output_type": "stream",
          "name": "stderr",
          "text": [
            " 82%|████████▏ | 822/1000 [01:23<00:15, 11.22it/s]"
          ]
        },
        {
          "output_type": "stream",
          "name": "stdout",
          "text": [
            "Epoch 820: Train Loss=0.3370, Val Loss=0.4259, Val Acc=0.8486, Best Test Acc=0.8625\n"
          ]
        },
        {
          "output_type": "stream",
          "name": "stderr",
          "text": [
            " 83%|████████▎ | 832/1000 [01:24<00:15, 11.09it/s]"
          ]
        },
        {
          "output_type": "stream",
          "name": "stdout",
          "text": [
            "Epoch 830: Train Loss=0.3364, Val Loss=0.4260, Val Acc=0.8473, Best Test Acc=0.8625\n"
          ]
        },
        {
          "output_type": "stream",
          "name": "stderr",
          "text": [
            " 84%|████████▍ | 842/1000 [01:25<00:14, 11.11it/s]"
          ]
        },
        {
          "output_type": "stream",
          "name": "stdout",
          "text": [
            "Epoch 840: Train Loss=0.3358, Val Loss=0.4261, Val Acc=0.8473, Best Test Acc=0.8625\n"
          ]
        },
        {
          "output_type": "stream",
          "name": "stderr",
          "text": [
            " 85%|████████▌ | 852/1000 [01:26<00:13, 11.16it/s]"
          ]
        },
        {
          "output_type": "stream",
          "name": "stdout",
          "text": [
            "Epoch 850: Train Loss=0.3353, Val Loss=0.4261, Val Acc=0.8486, Best Test Acc=0.8625\n"
          ]
        },
        {
          "output_type": "stream",
          "name": "stderr",
          "text": [
            " 86%|████████▌ | 862/1000 [01:27<00:12, 11.36it/s]"
          ]
        },
        {
          "output_type": "stream",
          "name": "stdout",
          "text": [
            "Epoch 860: Train Loss=0.3347, Val Loss=0.4261, Val Acc=0.8486, Best Test Acc=0.8625\n"
          ]
        },
        {
          "output_type": "stream",
          "name": "stderr",
          "text": [
            " 87%|████████▋ | 872/1000 [01:27<00:11, 11.17it/s]"
          ]
        },
        {
          "output_type": "stream",
          "name": "stdout",
          "text": [
            "Epoch 870: Train Loss=0.3341, Val Loss=0.4262, Val Acc=0.8486, Best Test Acc=0.8625\n"
          ]
        },
        {
          "output_type": "stream",
          "name": "stderr",
          "text": [
            " 88%|████████▊ | 882/1000 [01:28<00:10, 11.35it/s]"
          ]
        },
        {
          "output_type": "stream",
          "name": "stdout",
          "text": [
            "Epoch 880: Train Loss=0.3336, Val Loss=0.4262, Val Acc=0.8486, Best Test Acc=0.8625\n"
          ]
        },
        {
          "output_type": "stream",
          "name": "stderr",
          "text": [
            " 89%|████████▉ | 892/1000 [01:29<00:09, 11.23it/s]"
          ]
        },
        {
          "output_type": "stream",
          "name": "stdout",
          "text": [
            "Epoch 890: Train Loss=0.3331, Val Loss=0.4263, Val Acc=0.8486, Best Test Acc=0.8625\n"
          ]
        },
        {
          "output_type": "stream",
          "name": "stderr",
          "text": [
            " 90%|█████████ | 902/1000 [01:30<00:08, 11.08it/s]"
          ]
        },
        {
          "output_type": "stream",
          "name": "stdout",
          "text": [
            "Epoch 900: Train Loss=0.3325, Val Loss=0.4263, Val Acc=0.8486, Best Test Acc=0.8625\n"
          ]
        },
        {
          "output_type": "stream",
          "name": "stderr",
          "text": [
            " 91%|█████████ | 910/1000 [01:31<00:08, 10.48it/s]"
          ]
        },
        {
          "output_type": "stream",
          "name": "stdout",
          "text": [
            "Epoch 910: Train Loss=0.3320, Val Loss=0.4264, Val Acc=0.8498, Best Test Acc=0.8625\n"
          ]
        },
        {
          "output_type": "stream",
          "name": "stderr",
          "text": [
            " 92%|█████████▏| 921/1000 [01:32<00:11,  6.91it/s]"
          ]
        },
        {
          "output_type": "stream",
          "name": "stdout",
          "text": [
            "Epoch 920: Train Loss=0.3315, Val Loss=0.4265, Val Acc=0.8498, Best Test Acc=0.8625\n"
          ]
        },
        {
          "output_type": "stream",
          "name": "stderr",
          "text": [
            " 93%|█████████▎| 931/1000 [01:34<00:09,  7.00it/s]"
          ]
        },
        {
          "output_type": "stream",
          "name": "stdout",
          "text": [
            "Epoch 930: Train Loss=0.3310, Val Loss=0.4266, Val Acc=0.8498, Best Test Acc=0.8625\n"
          ]
        },
        {
          "output_type": "stream",
          "name": "stderr",
          "text": [
            " 94%|█████████▍| 941/1000 [01:35<00:06,  9.41it/s]"
          ]
        },
        {
          "output_type": "stream",
          "name": "stdout",
          "text": [
            "Epoch 940: Train Loss=0.3305, Val Loss=0.4266, Val Acc=0.8498, Best Test Acc=0.8625\n"
          ]
        },
        {
          "output_type": "stream",
          "name": "stderr",
          "text": [
            " 95%|█████████▌| 951/1000 [01:36<00:04, 11.02it/s]"
          ]
        },
        {
          "output_type": "stream",
          "name": "stdout",
          "text": [
            "Epoch 950: Train Loss=0.3300, Val Loss=0.4267, Val Acc=0.8498, Best Test Acc=0.8625\n"
          ]
        },
        {
          "output_type": "stream",
          "name": "stderr",
          "text": [
            " 96%|█████████▌| 961/1000 [01:37<00:03, 11.18it/s]"
          ]
        },
        {
          "output_type": "stream",
          "name": "stdout",
          "text": [
            "Epoch 960: Train Loss=0.3295, Val Loss=0.4268, Val Acc=0.8498, Best Test Acc=0.8625\n"
          ]
        },
        {
          "output_type": "stream",
          "name": "stderr",
          "text": [
            " 97%|█████████▋| 971/1000 [01:38<00:02, 11.06it/s]"
          ]
        },
        {
          "output_type": "stream",
          "name": "stdout",
          "text": [
            "Epoch 970: Train Loss=0.3291, Val Loss=0.4269, Val Acc=0.8498, Best Test Acc=0.8625\n"
          ]
        },
        {
          "output_type": "stream",
          "name": "stderr",
          "text": [
            " 98%|█████████▊| 981/1000 [01:39<00:01, 11.23it/s]"
          ]
        },
        {
          "output_type": "stream",
          "name": "stdout",
          "text": [
            "Epoch 980: Train Loss=0.3286, Val Loss=0.4269, Val Acc=0.8511, Best Test Acc=0.8650\n"
          ]
        },
        {
          "output_type": "stream",
          "name": "stderr",
          "text": [
            " 99%|█████████▉| 991/1000 [01:40<00:00, 11.33it/s]"
          ]
        },
        {
          "output_type": "stream",
          "name": "stdout",
          "text": [
            "Epoch 990: Train Loss=0.3281, Val Loss=0.4269, Val Acc=0.8486, Best Test Acc=0.8650\n"
          ]
        },
        {
          "output_type": "stream",
          "name": "stderr",
          "text": [
            "100%|██████████| 1000/1000 [01:40<00:00,  9.91it/s]"
          ]
        },
        {
          "output_type": "stream",
          "name": "stdout",
          "text": [
            "Epoch 1000: Train Loss=0.3277, Val Loss=0.4269, Val Acc=0.8486, Best Test Acc=0.8650\n",
            "\n",
            "Training Completed.\n",
            "Best Validation Accuracy: 0.8511\n",
            "Corresponding Test Accuracy: 0.8650\n"
          ]
        },
        {
          "output_type": "stream",
          "name": "stderr",
          "text": [
            "\n"
          ]
        }
      ],
      "source": [
        "import torch\n",
        "import torch.nn as nn\n",
        "import torch.nn.functional as F\n",
        "import networkx as nx\n",
        "from torch import optim\n",
        "import geoopt\n",
        "from geoopt import ManifoldParameter\n",
        "import os\n",
        "from tqdm import tqdm\n",
        "import pandas as pd\n",
        "from scipy.sparse import csr_matrix, diags\n",
        "import numpy as np\n",
        "import random\n",
        "from sklearn.model_selection import train_test_split\n",
        "import scipy.sparse as sp\n",
        "\n",
        "##############################################\n",
        "# Data Loading and Preprocessing\n",
        "##############################################\n",
        "\n",
        "def load_synthetic_data(dataset_str, use_feats, data_path):\n",
        "    object_to_idx = {}\n",
        "    idx_counter = 0\n",
        "    edges = []\n",
        "\n",
        "    # Read all edges from the CSV file\n",
        "    with open(os.path.join(data_path, f\"{dataset_str}.edges.csv\"), 'r') as f:\n",
        "        all_edges = f.readlines()\n",
        "\n",
        "    for line in all_edges:\n",
        "        n1, n2 = line.rstrip().split(',')\n",
        "\n",
        "        # Assign unique indices to nodes\n",
        "        if n1 in object_to_idx:\n",
        "            i = object_to_idx[n1]\n",
        "        else:\n",
        "            i = idx_counter\n",
        "            object_to_idx[n1] = i\n",
        "            idx_counter += 1\n",
        "\n",
        "        if n2 in object_to_idx:\n",
        "            j = object_to_idx[n2]\n",
        "        else:\n",
        "            j = idx_counter\n",
        "            object_to_idx[n2] = j\n",
        "            idx_counter += 1\n",
        "\n",
        "        edges.append((i, j))\n",
        "\n",
        "    num_nodes = len(object_to_idx)\n",
        "\n",
        "    # Initialize adjacency matrix using LIL format for efficient assignment\n",
        "    adj = sp.lil_matrix((num_nodes, num_nodes), dtype=np.float32)\n",
        "\n",
        "    for i, j in edges:\n",
        "        adj[i, j] = 1.0  # Undirected graph: set both (i, j) and (j, i)\n",
        "        adj[j, i] = 1.0\n",
        "\n",
        "    # Convert adjacency matrix to CSR format for efficient arithmetic operations\n",
        "    adj = adj.tocsr()\n",
        "\n",
        "    # Load features\n",
        "    if use_feats:\n",
        "        features = sp.load_npz(os.path.join(data_path, f\"{dataset_str}.feats.npz\")).astype(np.float32)\n",
        "    else:\n",
        "        features = sp.eye(adj.shape[0], dtype=np.float32)\n",
        "\n",
        "    # Load labels\n",
        "    labels = np.load(os.path.join(data_path, f\"{dataset_str}.labels.npy\"))\n",
        "\n",
        "    return adj, features, labels, object_to_idx\n",
        "\n",
        "\n",
        "# Define file paths\n",
        "data_path = ''  # Update this to your actual data path\n",
        "dataset_str = 'disease_lp'\n",
        "\n",
        "# Load data\n",
        "adj, features, labels, object_to_idx = load_synthetic_data(dataset_str, use_feats=True, data_path=data_path)\n",
        "\n",
        "num_nodes = adj.shape[0]\n",
        "num_features = features.shape[1]\n",
        "num_classes = len(np.unique(labels))  # Assuming labels are integer-encoded\n",
        "\n",
        "print(f\"Number of Nodes: {num_nodes}\")\n",
        "print(f\"Number of Features: {num_features}\")\n",
        "print(f\"Number of Classes: {num_classes}\")\n",
        "\n",
        "# Convert adjacency matrix to a sparse matrix and add self-loops\n",
        "adj = adj + diags([1e-5] * num_nodes)\n",
        "\n",
        "# Compute degree\n",
        "degrees = np.array(adj.sum(axis=1)).flatten()\n",
        "\n",
        "# Compute D^-0.5 (inverse square root of degree matrix)\n",
        "inv_sqrt_deg = np.power(degrees, -0.5)\n",
        "inv_sqrt_deg[np.isinf(inv_sqrt_deg)] = 0\n",
        "D_inv_sqrt = diags(inv_sqrt_deg)\n",
        "\n",
        "# Normalize adjacency matrix: D^-0.5 * A * D^-0.5\n",
        "norm_adj = D_inv_sqrt @ adj @ D_inv_sqrt\n",
        "\n",
        "# Convert back to a PyTorch tensor\n",
        "norm_adj = torch.tensor(norm_adj.toarray(), dtype=torch.float32)\n",
        "\n",
        "# Node Features: Load from the features matrix\n",
        "features = csr_matrix(features)\n",
        "features = torch.tensor(features.toarray(), dtype=torch.float32)\n",
        "\n",
        "# Move tensors to device\n",
        "device = torch.device(\"cuda\" if torch.cuda.is_available() else \"cpu\")\n",
        "features, norm_adj = features.to(device), norm_adj.to(device)\n",
        "\n",
        "print(f\"Using device: {device}\")\n",
        "\n",
        "\n",
        "###################################################################################\n",
        "# GCN DEFINITION\n",
        "###################################################################################\n",
        "\n",
        "# Define the GCN Baseline Model\n",
        "class GCNBaseline(nn.Module):\n",
        "    def __init__(self, input_dim, hidden_dim, num_relations):\n",
        "        super(GCNBaseline, self).__init__()\n",
        "        self.conv1 = nn.Linear(input_dim, hidden_dim)\n",
        "        self.conv2 = nn.Linear(hidden_dim, hidden_dim)\n",
        "        self.classifier = nn.Linear(hidden_dim * 2, num_relations)  # For link prediction\n",
        "\n",
        "    def forward(self, features, adj):\n",
        "        x = F.relu(self.conv1(features))\n",
        "        x = torch.matmul(adj, x)  # Graph convolution using adjacency matrix\n",
        "        x = F.relu(self.conv2(x))\n",
        "        return x\n",
        "\n",
        "    def classify(self, head_idx, tail_idx, node_emb):\n",
        "        head_emb = node_emb[head_idx]\n",
        "        tail_emb = node_emb[tail_idx]\n",
        "        score = self.classifier(torch.cat([head_emb, tail_emb], dim=1))\n",
        "        return score\n",
        "\n",
        "# Training function\n",
        "def train_epoch(model, optimizer, criterion, heads, tails, relations, node_emb):\n",
        "    model.train()\n",
        "    optimizer.zero_grad()\n",
        "\n",
        "    # Get predictions for head-tail pairs\n",
        "    scores = model.classify(heads, tails, node_emb)  # [batch_size, num_relations]\n",
        "\n",
        "    # Compute loss\n",
        "    loss = criterion(scores, relations)\n",
        "\n",
        "    # Backpropagation\n",
        "    loss.backward()\n",
        "    optimizer.step()\n",
        "\n",
        "    return loss.item()\n",
        "\n",
        "# Link Prediction Model for Hyperbolic Graph Convolution\n",
        "class LinkPredictionModel(nn.Module):\n",
        "    def __init__(self, num_features, hidden_dim, num_relations):\n",
        "        super(LinkPredictionModel, self).__init__()\n",
        "        self.gcn = GCNBaseline(num_features, hidden_dim, num_relations)\n",
        "        self.num_relations = num_relations\n",
        "        self.relation_embeddings = nn.Embedding(num_relations, hidden_dim)  # Added this line\n",
        "\n",
        "    def forward(self, features, adj):\n",
        "        # Generate node embeddings\n",
        "        node_embeddings = self.gcn(features, adj)\n",
        "        return node_embeddings\n",
        "\n",
        "    def classify(self, head_idx, tail_idx, node_embeddings):\n",
        "        # Calculate scores for all relations\n",
        "        head_emb = node_embeddings[head_idx]\n",
        "        tail_emb = node_embeddings[tail_idx]\n",
        "\n",
        "        # Use relation embeddings for the classification step\n",
        "        relation_emb = self.relation_embeddings.weight  # Get the learned relation embeddings\n",
        "        scores = torch.matmul(head_emb, relation_emb.T) + torch.matmul(tail_emb, relation_emb.T)\n",
        "        return scores\n",
        "\n",
        "\n",
        "############################################################\n",
        "#  TRAINING FUNCTIONS\n",
        "############################################################\n",
        "\n",
        "def prepare_data(triples):\n",
        "    \"\"\"\n",
        "    Prepare tensors for head, tail, and relation indices.\n",
        "    \"\"\"\n",
        "    triples = torch.tensor(triples, dtype=torch.long, device=device)\n",
        "    heads = triples[:, 0]\n",
        "    relations = triples[:, 1]\n",
        "    tails = triples[:, 2]\n",
        "    return heads, tails, relations\n",
        "\n",
        "def train_epoch(model, optimizer, criterion, heads, tails, relations, node_emb):\n",
        "    model.train()\n",
        "    optimizer.zero_grad()\n",
        "\n",
        "    # Get relation scores\n",
        "    scores = model.classify(heads, tails, node_emb)  # [batch_size, num_relations]\n",
        "\n",
        "    # Compute loss\n",
        "    loss = criterion(scores, relations)\n",
        "    loss.backward()\n",
        "    optimizer.step()\n",
        "\n",
        "    return loss.item()\n",
        "\n",
        "def evaluate(model, criterion, heads, tails, relations, node_emb):\n",
        "    model.eval()\n",
        "    with torch.no_grad():\n",
        "        scores = model.classify(heads, tails, node_emb)  # [batch_size, num_relations]\n",
        "        loss = criterion(scores, relations).item()\n",
        "        preds = torch.argmax(scores, dim=1)\n",
        "        correct = (preds == relations).sum().item()\n",
        "        total = relations.size(0)\n",
        "        accuracy = correct / total\n",
        "    return loss, accuracy\n",
        "\n",
        "def generate_negative_edges(adj_matrix, num_neg_samples, excluded_edges=set()):\n",
        "    neg_edges = set()\n",
        "    while len(neg_edges) < num_neg_samples:\n",
        "        i = random.randint(0, num_nodes - 1)\n",
        "        j = random.randint(0, num_nodes - 1)\n",
        "        if i == j:\n",
        "            continue\n",
        "        if adj_matrix[i, j] == 0 and (i, j) not in excluded_edges and (j, i) not in excluded_edges:\n",
        "            neg_edges.add((i, j))\n",
        "    return list(neg_edges)\n",
        "\n",
        "# Extract existing edges\n",
        "existing_edges = set()\n",
        "adj_coo = adj.tocoo()\n",
        "for i, j in zip(adj_coo.row, adj_coo.col):\n",
        "    if i < j:  # To avoid duplicates in undirected graph\n",
        "        existing_edges.add((i, j))\n",
        "\n",
        "# Number of positive and negative samples\n",
        "num_positive = len(existing_edges)\n",
        "num_negative = num_positive  # Balance the dataset\n",
        "\n",
        "# Generate negative edges\n",
        "negative_edges = generate_negative_edges(adj, num_negative, excluded_edges=existing_edges)\n",
        "\n",
        "# Create labels: 1 for positive, 0 for negative\n",
        "positive_labels = np.ones(num_positive)\n",
        "negative_labels = np.zeros(num_negative)\n",
        "\n",
        "# Combine positive and negative edges\n",
        "all_edges = list(existing_edges) + negative_edges\n",
        "all_labels = np.concatenate([positive_labels, negative_labels])\n",
        "\n",
        "# Split into train, val, test\n",
        "train_edges, temp_edges, train_labels, temp_labels = train_test_split(all_edges, all_labels, test_size=0.3, random_state=42, stratify=all_labels)\n",
        "val_edges, test_edges, val_labels, test_labels = train_test_split(temp_edges, temp_labels, test_size=0.5, random_state=42, stratify=temp_labels)\n",
        "\n",
        "# Prepare training, validation, and test data\n",
        "train_triples = [(h, r, t) for (h, t), r in zip(train_edges, train_labels)]\n",
        "val_triples = [(h, r, t) for (h, t), r in zip(val_edges, val_labels)]\n",
        "test_triples = [(h, r, t) for (h, t), r in zip(test_edges, test_labels)]\n",
        "\n",
        "train_heads, train_tails, train_relations = prepare_data(train_triples)\n",
        "val_heads, val_tails, val_relations = prepare_data(val_triples)\n",
        "test_heads, test_tails, test_relations = prepare_data(test_triples)\n",
        "\n",
        "# Initialize the model\n",
        "hidden_dim = 128\n",
        "num_relations = len(np.unique(train_labels))\n",
        "model = LinkPredictionModel(num_features = num_features, hidden_dim=hidden_dim, num_relations=num_relations).to(device)\n",
        "\n",
        "# Optimizer Choices:\n",
        "riemannian_adam = geoopt.optim.RiemannianAdam(model.parameters(), lr=1e-4)\n",
        "riemannian_sgd = geoopt.optim.RiemannianSGD(model.parameters(), lr=1e-2)\n",
        "\n",
        "# SET OPTIMIZER:\n",
        "optimizer = riemannian_adam\n",
        "\n",
        "# Define loss function for multi-class classification\n",
        "criterion = nn.CrossEntropyLoss()\n",
        "\n",
        "# Training parameters\n",
        "num_epochs = 1000\n",
        "best_val_accuracy = 0.0\n",
        "best_test_accuracy = 0.0\n",
        "\n",
        "train_losses, val_losses, val_accuracies, test_accuracies = [], [], [], []\n",
        "\n",
        "print(\"\\nStarting Training...\\n\")\n",
        "for epoch in tqdm(range(1, num_epochs + 1)):\n",
        "    # Forward pass to get node embeddings\n",
        "    node_emb = model(features, norm_adj)  # [num_nodes, hidden_dim]\n",
        "\n",
        "    # Training\n",
        "    train_loss = train_epoch(model, optimizer, criterion, train_heads, train_tails, train_relations, node_emb)\n",
        "\n",
        "    # Evaluation on Validation Set\n",
        "    val_loss, val_accuracy = evaluate(model, criterion, val_heads, val_tails, val_relations, node_emb)\n",
        "\n",
        "    # Early Stopping and Best Model Tracking\n",
        "    if val_accuracy > best_val_accuracy:\n",
        "        best_val_accuracy = val_accuracy\n",
        "        # Evaluate on Test Set\n",
        "        test_loss, test_accuracy = evaluate(model, criterion, test_heads, test_tails, test_relations, node_emb)\n",
        "        best_test_accuracy = test_accuracy\n",
        "\n",
        "    # Print Epoch Results\n",
        "    if epoch % 10 == 0 or epoch == 1:\n",
        "        print(f\"Epoch {epoch:03d}: Train Loss={train_loss:.4f}, Val Loss={val_loss:.4f}, Val Acc={val_accuracy:.4f}, Best Test Acc={best_test_accuracy:.4f}\")\n",
        "\n",
        "    train_losses.append(train_loss)\n",
        "    val_losses.append(val_loss)\n",
        "    val_accuracies.append(val_accuracy)\n",
        "    test_accuracies.append(test_accuracy)\n",
        "\n",
        "print(\"\\nTraining Completed.\")\n",
        "print(f\"Best Validation Accuracy: {best_val_accuracy:.4f}\")\n",
        "print(f\"Corresponding Test Accuracy: {best_test_accuracy:.4f}\")\n"
      ]
    }
  ]
}